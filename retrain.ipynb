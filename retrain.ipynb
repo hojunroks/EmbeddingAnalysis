{
 "cells": [
  {
   "cell_type": "code",
   "execution_count": 1,
   "metadata": {},
   "outputs": [],
   "source": [
    "from argparse import ArgumentParser\n",
    "import pytorch_lightning as pl\n",
    "from pl_bolts.datamodules.cifar10_datamodule import CIFAR10DataModule\n",
    "from pl_bolts.datamodules.stl10_datamodule import STL10DataModule\n",
    "from pl_bolts.models.self_supervised import SimCLR, CPC_v2, SwAV\n",
    "from pl_bolts.models.self_supervised.resnets import resnet50\n",
    "from torchsummary import summary\n",
    "from tabulate import tabulate\n",
    "\n",
    "\n",
    "import torch\n",
    "import torch.nn as nn\n",
    "import numpy\n",
    "import os\n",
    "import datetime\n",
    "from src.feature_tsne import featureToTSNE\n",
    "from sklearn.preprocessing import StandardScaler\n",
    "from sklearn.decomposition import PCA"
   ]
  },
  {
   "cell_type": "code",
   "execution_count": 5,
   "metadata": {},
   "outputs": [
    {
     "name": "stdout",
     "output_type": "stream",
     "text": [
      "Files already downloaded and verified\n",
      "Files already downloaded and verified\n",
      "Files already downloaded and verified\n",
      "Files already downloaded and verified\n"
     ]
    }
   ],
   "source": [
    "batch_size = 512\n",
    "CIFAR10DataModule().prepare_data()\n",
    "dm = CIFAR10DataModule(data_dir=\"data\", batch_size=batch_size, num_workers=8)\n",
    "dm.prepare_data()\n",
    "dm.setup()\n",
    "classNames = [\"airplane\", \"car\", \"bird\", \"cat\", \"deer\", \"dog\", \"frog\", \"horse\", \"ship\", \"truck\"]"
   ]
  },
  {
   "cell_type": "code",
   "execution_count": 7,
   "metadata": {},
   "outputs": [],
   "source": [
    "device = torch.device('cuda:0')\n",
    "model_encoder = resnet50(first_conv= False, maxpool1=False)\n",
    "fv_size = 32768\n",
    "weight_path = '/home/hjsong/EmbeddingAnalysis/logs/1208/cifar10/100epochs/adam/version_3/checkpoints/epoch=95-step=16895.ckpt'\n",
    "model = SimCLR.load_from_checkpoint(weight_path, strict=False)\n",
    "model_encoder.load_state_dict(model.encoder.state_dict(), strict=False)\n",
    "model_encoder.avgpool = nn.Identity()\n",
    "model_encoder.fc = nn.Identity()        \n",
    "model_encoder.to(device)\n",
    "model_encoder.eval()\n",
    "train_data_encoded = torch.zeros([len(dm.dataset_train), fv_size]).to(device)\n",
    "\n",
    "with torch.no_grad():\n",
    "    for xi, x in enumerate(dm.train_dataloader()):\n",
    "        input, label = x\n",
    "        encoded = model_encoder(input.to(device))\n",
    "        train_data_encoded[xi*batch_size:min((xi+1)*batch_size, len(dm.dataset_train))] = encoded[0]\n",
    "        \n",
    "features = train_data_encoded.cpu().detach().numpy()\n"
   ]
  },
  {
   "cell_type": "code",
   "execution_count": null,
   "metadata": {},
   "outputs": [],
   "source": []
  }
 ],
 "metadata": {
  "interpreter": {
   "hash": "36feb6b5074932f5161383b5b1ae638ffe4edce546a09c99ddf2ba1991ee9414"
  },
  "kernelspec": {
   "display_name": "Python 3.8.5 64-bit ('l2v': conda)",
   "language": "python",
   "name": "python3"
  },
  "language_info": {
   "codemirror_mode": {
    "name": "ipython",
    "version": 3
   },
   "file_extension": ".py",
   "mimetype": "text/x-python",
   "name": "python",
   "nbconvert_exporter": "python",
   "pygments_lexer": "ipython3",
   "version": "3.8.5"
  },
  "orig_nbformat": 4
 },
 "nbformat": 4,
 "nbformat_minor": 2
}
